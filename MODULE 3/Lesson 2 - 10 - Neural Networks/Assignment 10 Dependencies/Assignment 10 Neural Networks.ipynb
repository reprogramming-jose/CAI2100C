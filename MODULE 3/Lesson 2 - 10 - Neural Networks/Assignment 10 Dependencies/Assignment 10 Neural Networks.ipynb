{
 "cells": [
  {
   "cell_type": "markdown",
   "metadata": {},
   "source": [
    "# Deep Learning "
   ]
  },
  {
   "cell_type": "markdown",
   "metadata": {},
   "source": [
    "In this notebook, we'll go through the code to create your very first neural network to predict whether the house price is below or above median value. We will go through the following in this notebook:\n",
    "\n",
    "- Exploring and Processing the Data\n",
    "- Building and Training our Neural Network\n",
    "- Visualizing Loss and Accuracy\n",
    "- Adding Regularization to our Neural Network\n",
    "\n",
    "The code is annotated throughout the notebook and you simply need to download the dataset [here](https://drive.google.com/file/d/1GfvKA0qznNVknghV4botnNxyH-KvODOC/view), put the dataset in the same folder as this notebook and run the code cells below. \n",
    "\n",
    "**Before we code any ML algorithm, the first thing we need to do is to put our data in a format that the algorithm will want. In particular, we need to:**\n",
    "\n",
    "- Read in the CSV (comma separated values) file and convert them to arrays. Arrays are a data format that our algorithm can process.\n",
    "- Split our dataset into the input features (which we call x) and the label (which we call y).\n",
    "- Scale the data (we call this normalization) so that the input features have similar orders of magnitude.\n",
    "- Split our dataset into the training set, the validation set and the test set."
   ]
  },
  {
   "cell_type": "markdown",
   "metadata": {},
   "source": [
    "# Exploring and Processing the Data"
   ]
  },
  {
   "cell_type": "markdown",
   "metadata": {},
   "source": [
    "We first have to read in the CSV file that we've been given. We'll use a package called pandas for that:"
   ]
  },
  {
   "cell_type": "code",
   "execution_count": 1,
   "metadata": {},
   "outputs": [],
   "source": [
    "import pandas as pd"
   ]
  },
  {
   "cell_type": "code",
   "execution_count": 2,
   "metadata": {},
   "outputs": [],
   "source": [
    "df = pd.read_csv('housepricedata.csv')"
   ]
  },
  {
   "cell_type": "code",
   "execution_count": 3,
   "metadata": {},
   "outputs": [
    {
     "data": {
      "text/html": [
       "<div>\n",
       "<style scoped>\n",
       "    .dataframe tbody tr th:only-of-type {\n",
       "        vertical-align: middle;\n",
       "    }\n",
       "\n",
       "    .dataframe tbody tr th {\n",
       "        vertical-align: top;\n",
       "    }\n",
       "\n",
       "    .dataframe thead th {\n",
       "        text-align: right;\n",
       "    }\n",
       "</style>\n",
       "<table border=\"1\" class=\"dataframe\">\n",
       "  <thead>\n",
       "    <tr style=\"text-align: right;\">\n",
       "      <th></th>\n",
       "      <th>LotArea</th>\n",
       "      <th>OverallQual</th>\n",
       "      <th>OverallCond</th>\n",
       "      <th>TotalBsmtSF</th>\n",
       "      <th>FullBath</th>\n",
       "      <th>HalfBath</th>\n",
       "      <th>BedroomAbvGr</th>\n",
       "      <th>TotRmsAbvGrd</th>\n",
       "      <th>Fireplaces</th>\n",
       "      <th>GarageArea</th>\n",
       "      <th>AboveMedianPrice</th>\n",
       "    </tr>\n",
       "  </thead>\n",
       "  <tbody>\n",
       "    <tr>\n",
       "      <th>0</th>\n",
       "      <td>8450</td>\n",
       "      <td>7</td>\n",
       "      <td>5</td>\n",
       "      <td>856</td>\n",
       "      <td>2</td>\n",
       "      <td>1</td>\n",
       "      <td>3</td>\n",
       "      <td>8</td>\n",
       "      <td>0</td>\n",
       "      <td>548</td>\n",
       "      <td>1</td>\n",
       "    </tr>\n",
       "    <tr>\n",
       "      <th>1</th>\n",
       "      <td>9600</td>\n",
       "      <td>6</td>\n",
       "      <td>8</td>\n",
       "      <td>1262</td>\n",
       "      <td>2</td>\n",
       "      <td>0</td>\n",
       "      <td>3</td>\n",
       "      <td>6</td>\n",
       "      <td>1</td>\n",
       "      <td>460</td>\n",
       "      <td>1</td>\n",
       "    </tr>\n",
       "    <tr>\n",
       "      <th>2</th>\n",
       "      <td>11250</td>\n",
       "      <td>7</td>\n",
       "      <td>5</td>\n",
       "      <td>920</td>\n",
       "      <td>2</td>\n",
       "      <td>1</td>\n",
       "      <td>3</td>\n",
       "      <td>6</td>\n",
       "      <td>1</td>\n",
       "      <td>608</td>\n",
       "      <td>1</td>\n",
       "    </tr>\n",
       "    <tr>\n",
       "      <th>3</th>\n",
       "      <td>9550</td>\n",
       "      <td>7</td>\n",
       "      <td>5</td>\n",
       "      <td>756</td>\n",
       "      <td>1</td>\n",
       "      <td>0</td>\n",
       "      <td>3</td>\n",
       "      <td>7</td>\n",
       "      <td>1</td>\n",
       "      <td>642</td>\n",
       "      <td>0</td>\n",
       "    </tr>\n",
       "    <tr>\n",
       "      <th>4</th>\n",
       "      <td>14260</td>\n",
       "      <td>8</td>\n",
       "      <td>5</td>\n",
       "      <td>1145</td>\n",
       "      <td>2</td>\n",
       "      <td>1</td>\n",
       "      <td>4</td>\n",
       "      <td>9</td>\n",
       "      <td>1</td>\n",
       "      <td>836</td>\n",
       "      <td>1</td>\n",
       "    </tr>\n",
       "    <tr>\n",
       "      <th>...</th>\n",
       "      <td>...</td>\n",
       "      <td>...</td>\n",
       "      <td>...</td>\n",
       "      <td>...</td>\n",
       "      <td>...</td>\n",
       "      <td>...</td>\n",
       "      <td>...</td>\n",
       "      <td>...</td>\n",
       "      <td>...</td>\n",
       "      <td>...</td>\n",
       "      <td>...</td>\n",
       "    </tr>\n",
       "    <tr>\n",
       "      <th>1455</th>\n",
       "      <td>7917</td>\n",
       "      <td>6</td>\n",
       "      <td>5</td>\n",
       "      <td>953</td>\n",
       "      <td>2</td>\n",
       "      <td>1</td>\n",
       "      <td>3</td>\n",
       "      <td>7</td>\n",
       "      <td>1</td>\n",
       "      <td>460</td>\n",
       "      <td>1</td>\n",
       "    </tr>\n",
       "    <tr>\n",
       "      <th>1456</th>\n",
       "      <td>13175</td>\n",
       "      <td>6</td>\n",
       "      <td>6</td>\n",
       "      <td>1542</td>\n",
       "      <td>2</td>\n",
       "      <td>0</td>\n",
       "      <td>3</td>\n",
       "      <td>7</td>\n",
       "      <td>2</td>\n",
       "      <td>500</td>\n",
       "      <td>1</td>\n",
       "    </tr>\n",
       "    <tr>\n",
       "      <th>1457</th>\n",
       "      <td>9042</td>\n",
       "      <td>7</td>\n",
       "      <td>9</td>\n",
       "      <td>1152</td>\n",
       "      <td>2</td>\n",
       "      <td>0</td>\n",
       "      <td>4</td>\n",
       "      <td>9</td>\n",
       "      <td>2</td>\n",
       "      <td>252</td>\n",
       "      <td>1</td>\n",
       "    </tr>\n",
       "    <tr>\n",
       "      <th>1458</th>\n",
       "      <td>9717</td>\n",
       "      <td>5</td>\n",
       "      <td>6</td>\n",
       "      <td>1078</td>\n",
       "      <td>1</td>\n",
       "      <td>0</td>\n",
       "      <td>2</td>\n",
       "      <td>5</td>\n",
       "      <td>0</td>\n",
       "      <td>240</td>\n",
       "      <td>0</td>\n",
       "    </tr>\n",
       "    <tr>\n",
       "      <th>1459</th>\n",
       "      <td>9937</td>\n",
       "      <td>5</td>\n",
       "      <td>6</td>\n",
       "      <td>1256</td>\n",
       "      <td>1</td>\n",
       "      <td>1</td>\n",
       "      <td>3</td>\n",
       "      <td>6</td>\n",
       "      <td>0</td>\n",
       "      <td>276</td>\n",
       "      <td>0</td>\n",
       "    </tr>\n",
       "  </tbody>\n",
       "</table>\n",
       "<p>1460 rows × 11 columns</p>\n",
       "</div>"
      ],
      "text/plain": [
       "      LotArea  OverallQual  OverallCond  TotalBsmtSF  FullBath  HalfBath  \\\n",
       "0        8450            7            5          856         2         1   \n",
       "1        9600            6            8         1262         2         0   \n",
       "2       11250            7            5          920         2         1   \n",
       "3        9550            7            5          756         1         0   \n",
       "4       14260            8            5         1145         2         1   \n",
       "...       ...          ...          ...          ...       ...       ...   \n",
       "1455     7917            6            5          953         2         1   \n",
       "1456    13175            6            6         1542         2         0   \n",
       "1457     9042            7            9         1152         2         0   \n",
       "1458     9717            5            6         1078         1         0   \n",
       "1459     9937            5            6         1256         1         1   \n",
       "\n",
       "      BedroomAbvGr  TotRmsAbvGrd  Fireplaces  GarageArea  AboveMedianPrice  \n",
       "0                3             8           0         548                 1  \n",
       "1                3             6           1         460                 1  \n",
       "2                3             6           1         608                 1  \n",
       "3                3             7           1         642                 0  \n",
       "4                4             9           1         836                 1  \n",
       "...            ...           ...         ...         ...               ...  \n",
       "1455             3             7           1         460                 1  \n",
       "1456             3             7           2         500                 1  \n",
       "1457             4             9           2         252                 1  \n",
       "1458             2             5           0         240                 0  \n",
       "1459             3             6           0         276                 0  \n",
       "\n",
       "[1460 rows x 11 columns]"
      ]
     },
     "execution_count": 3,
     "metadata": {},
     "output_type": "execute_result"
    }
   ],
   "source": [
    "df"
   ]
  },
  {
   "cell_type": "markdown",
   "metadata": {},
   "source": [
    "Here, you can explore the data a little. We have our input features in the first ten columns:\n",
    "\n",
    "- Lot Area (in sq ft)\n",
    "- Overall Quality (scale from 1 to 10)\n",
    "- Overall Condition (scale from 1 to 10)\n",
    "- Total Basement Area (in sq ft)\n",
    "- Number of Full Bathrooms\n",
    "- Number of Half Bathrooms\n",
    "- Number of Bedrooms above ground\n",
    "- Total Number of Rooms above ground\n",
    "- Number of Fireplaces\n",
    "- Garage Area (in sq ft)\n",
    "\n",
    "\n",
    "In our last column, we have **the feature that we would like to predict:**\n",
    "\n",
    "**Is the house price above the median or not? (1 for yes and 0 for no)**\n"
   ]
  },
  {
   "cell_type": "markdown",
   "metadata": {},
   "source": [
    "The dataset that we have now is in what we call a pandas dataframe. To convert it to an array, simply access its values:"
   ]
  },
  {
   "cell_type": "code",
   "execution_count": 4,
   "metadata": {},
   "outputs": [],
   "source": [
    "dataset = df.values"
   ]
  },
  {
   "cell_type": "code",
   "execution_count": 5,
   "metadata": {},
   "outputs": [
    {
     "data": {
      "text/plain": [
       "array([[ 8450,     7,     5, ...,     0,   548,     1],\n",
       "       [ 9600,     6,     8, ...,     1,   460,     1],\n",
       "       [11250,     7,     5, ...,     1,   608,     1],\n",
       "       ...,\n",
       "       [ 9042,     7,     9, ...,     2,   252,     1],\n",
       "       [ 9717,     5,     6, ...,     0,   240,     0],\n",
       "       [ 9937,     5,     6, ...,     0,   276,     0]], dtype=int64)"
      ]
     },
     "execution_count": 5,
     "metadata": {},
     "output_type": "execute_result"
    }
   ],
   "source": [
    "dataset"
   ]
  },
  {
   "cell_type": "markdown",
   "metadata": {},
   "source": [
    "Now, we split the dataset into our input features and the label we wish to predict.\n",
    "\n",
    "We now split our dataset into input features (X) and the feature we wish to predict (Y). To do that split, we simply assign the first 10 columns of our array to a variable called X and the last column of our array to a variable called Y. \n",
    "\n",
    "The code to do the first assignment is this:"
   ]
  },
  {
   "cell_type": "code",
   "execution_count": 6,
   "metadata": {},
   "outputs": [],
   "source": [
    "X = dataset[:,0:10]\n",
    "Y = dataset[:,10]"
   ]
  },
  {
   "cell_type": "markdown",
   "metadata": {},
   "source": [
    "Normalizing our data is very important, as we want the input features to be on the same order of magnitude to make our training easier. We'll use a min-max scaler from scikit-learn which scales our data to be between 0 and 1."
   ]
  },
  {
   "cell_type": "code",
   "execution_count": 7,
   "metadata": {},
   "outputs": [],
   "source": [
    "from sklearn import preprocessing"
   ]
  },
  {
   "cell_type": "code",
   "execution_count": 8,
   "metadata": {},
   "outputs": [],
   "source": [
    "min_max_scaler = preprocessing.MinMaxScaler()\n",
    "X_scale = min_max_scaler.fit_transform(X)"
   ]
  },
  {
   "cell_type": "code",
   "execution_count": 9,
   "metadata": {},
   "outputs": [
    {
     "data": {
      "text/plain": [
       "array([[0.0334198 , 0.66666667, 0.5       , ..., 0.5       , 0.        ,\n",
       "        0.3864598 ],\n",
       "       [0.03879502, 0.55555556, 0.875     , ..., 0.33333333, 0.33333333,\n",
       "        0.32440056],\n",
       "       [0.04650728, 0.66666667, 0.5       , ..., 0.33333333, 0.33333333,\n",
       "        0.42877292],\n",
       "       ...,\n",
       "       [0.03618687, 0.66666667, 1.        , ..., 0.58333333, 0.66666667,\n",
       "        0.17771509],\n",
       "       [0.03934189, 0.44444444, 0.625     , ..., 0.25      , 0.        ,\n",
       "        0.16925247],\n",
       "       [0.04037019, 0.44444444, 0.625     , ..., 0.33333333, 0.        ,\n",
       "        0.19464034]])"
      ]
     },
     "execution_count": 9,
     "metadata": {},
     "output_type": "execute_result"
    }
   ],
   "source": [
    "X_scale"
   ]
  },
  {
   "cell_type": "markdown",
   "metadata": {},
   "source": [
    "Lastly, we wish to set aside some parts of our dataset for a validation set and a test set. We use the function train_test_split from scikit-learn to do that."
   ]
  },
  {
   "cell_type": "code",
   "execution_count": 10,
   "metadata": {},
   "outputs": [],
   "source": [
    "from sklearn.model_selection import train_test_split"
   ]
  },
  {
   "cell_type": "code",
   "execution_count": 11,
   "metadata": {},
   "outputs": [],
   "source": [
    "X_train, X_val_and_test, Y_train, Y_val_and_test = train_test_split(X_scale, Y, test_size=0.3)"
   ]
  },
  {
   "cell_type": "code",
   "execution_count": 12,
   "metadata": {},
   "outputs": [],
   "source": [
    "X_val, X_test, Y_val, Y_test = train_test_split(X_val_and_test, Y_val_and_test, test_size=0.5)"
   ]
  },
  {
   "cell_type": "markdown",
   "metadata": {},
   "source": [
    "In summary, we now have a total of six variables for our datasets we will use:\n",
    "\n",
    "- X_train (10 input features, 70% of full dataset)\n",
    "- X_val (10 input features, 15% of full dataset)\n",
    "- X_test (10 input features, 15% of full dataset)\n",
    "- Y_train (1 label, 70% of full dataset)\n",
    "- Y_val (1 label, 15% of full dataset)\n",
    "- Y_test (1 label, 15% of full dataset)"
   ]
  },
  {
   "cell_type": "code",
   "execution_count": 13,
   "metadata": {},
   "outputs": [
    {
     "name": "stdout",
     "output_type": "stream",
     "text": [
      "(1022, 10) (219, 10) (219, 10) (1022,) (219,) (219,)\n"
     ]
    }
   ],
   "source": [
    "print(X_train.shape, X_val.shape, X_test.shape, Y_train.shape, Y_val.shape, Y_test.shape)"
   ]
  },
  {
   "cell_type": "markdown",
   "metadata": {},
   "source": [
    "# Building and Training Our First Neural Network"
   ]
  },
  {
   "cell_type": "markdown",
   "metadata": {},
   "source": [
    "We will be using Keras to build our architecture. Let's import the code from Keras that we will need to use:"
   ]
  },
  {
   "cell_type": "code",
   "execution_count": 14,
   "metadata": {},
   "outputs": [],
   "source": [
    "from tensorflow.keras.models import Sequential\n",
    "from tensorflow.keras.layers import Dense"
   ]
  },
  {
   "attachments": {
    "H3eAYjXcA2asaCjCYrVT7lc2IIBQGQWzQlPG.png": {
     "image/png": "[encoded data removed]"
    }
   },
   "cell_type": "markdown",
   "metadata": {},
   "source": [
    "We will be using the Sequential model, which means that we merely need to describe the layers above in sequence. Our neural network has three layers:\n",
    "\n",
    "![H3eAYjXcA2asaCjCYrVT7lc2IIBQGQWzQlPG.png](attachment:H3eAYjXcA2asaCjCYrVT7lc2IIBQGQWzQlPG.png)\n",
    "\n",
    "- Hidden layer 1: 32 neurons, ReLU activation\n",
    "- Hidden layer 2: 32 neurons, ReLU activation\n",
    "- Output Layer: 1 neuron, Sigmoid activation"
   ]
  },
  {
   "cell_type": "code",
   "execution_count": 15,
   "metadata": {},
   "outputs": [],
   "source": [
    "model = Sequential([\n",
    "    Dense(32, activation='relu', input_shape=(10,)),\n",
    "    Dense(32, activation='relu'),\n",
    "    Dense(1, activation='sigmoid'),\n",
    "])"
   ]
  },
  {
   "cell_type": "markdown",
   "metadata": {},
   "source": [
    "Now that we've got our architecture specified, we need to find the best numbers for it. Before we start our training, we have to configure the model by\n",
    "- Telling it what algorithm you want to use to do the optimization (we'll use stochastic gradient descent)\n",
    "- Telling it what loss function to use (for binary classification, we will use binary cross entropy)\n",
    "- Telling it what other metrics you want to track apart from the loss function (we want to track accuracy as well)\n",
    "\n",
    "We do so below:"
   ]
  },
  {
   "cell_type": "code",
   "execution_count": 16,
   "metadata": {},
   "outputs": [],
   "source": [
    "model.compile(optimizer='sgd',\n",
    "              loss='binary_crossentropy',\n",
    "              metrics=['accuracy'])"
   ]
  },
  {
   "cell_type": "markdown",
   "metadata": {},
   "source": [
    "Training on the data is pretty straightforward and requires us to write one line of code. The function is called 'fit' as we are fitting the parameters to the data. We specify:\n",
    "- what data we are training on, which is X_train and Y_train\n",
    "- the size of our mini-batch \n",
    "- how long we want to train it for (epochs)\n",
    "- what our validation data is so that the model will tell us how we are doing on the validation data at each point.\n",
    "\n",
    "This function will output a history, which we save under the variable hist. We'll use this variable a little later."
   ]
  },
  {
   "cell_type": "code",
   "execution_count": 17,
   "metadata": {},
   "outputs": [
    {
     "name": "stdout",
     "output_type": "stream",
     "text": [
      "Epoch 1/100\n",
      "32/32 [==============================] - 1s 12ms/step - loss: 0.6874 - accuracy: 0.4980 - val_loss: 0.6828 - val_accuracy: 0.5205\n",
      "Epoch 2/100\n",
      "32/32 [==============================] - 0s 4ms/step - loss: 0.6806 - accuracy: 0.4980 - val_loss: 0.6759 - val_accuracy: 0.5251\n",
      "Epoch 3/100\n",
      "32/32 [==============================] - 0s 4ms/step - loss: 0.6740 - accuracy: 0.5196 - val_loss: 0.6690 - val_accuracy: 0.5342\n",
      "Epoch 4/100\n",
      "32/32 [==============================] - 0s 4ms/step - loss: 0.6674 - accuracy: 0.5509 - val_loss: 0.6624 - val_accuracy: 0.5753\n",
      "Epoch 5/100\n",
      "32/32 [==============================] - 0s 3ms/step - loss: 0.6611 - accuracy: 0.6204 - val_loss: 0.6560 - val_accuracy: 0.6256\n",
      "Epoch 6/100\n",
      "32/32 [==============================] - 0s 4ms/step - loss: 0.6549 - accuracy: 0.6800 - val_loss: 0.6495 - val_accuracy: 0.6941\n",
      "Epoch 7/100\n",
      "32/32 [==============================] - 0s 4ms/step - loss: 0.6485 - accuracy: 0.6908 - val_loss: 0.6430 - val_accuracy: 0.7123\n",
      "Epoch 8/100\n",
      "32/32 [==============================] - 0s 4ms/step - loss: 0.6419 - accuracy: 0.7515 - val_loss: 0.6361 - val_accuracy: 0.7215\n",
      "Epoch 9/100\n",
      "32/32 [==============================] - 0s 4ms/step - loss: 0.6351 - accuracy: 0.7534 - val_loss: 0.6292 - val_accuracy: 0.7397\n",
      "Epoch 10/100\n",
      "32/32 [==============================] - 0s 3ms/step - loss: 0.6283 - accuracy: 0.7955 - val_loss: 0.6220 - val_accuracy: 0.7489\n",
      "Epoch 11/100\n",
      "32/32 [==============================] - 0s 4ms/step - loss: 0.6214 - accuracy: 0.7877 - val_loss: 0.6147 - val_accuracy: 0.7900\n",
      "Epoch 12/100\n",
      "32/32 [==============================] - 0s 4ms/step - loss: 0.6139 - accuracy: 0.8043 - val_loss: 0.6072 - val_accuracy: 0.8037\n",
      "Epoch 13/100\n",
      "32/32 [==============================] - 0s 4ms/step - loss: 0.6065 - accuracy: 0.8102 - val_loss: 0.5994 - val_accuracy: 0.8128\n",
      "Epoch 14/100\n",
      "32/32 [==============================] - 0s 4ms/step - loss: 0.5987 - accuracy: 0.8268 - val_loss: 0.5913 - val_accuracy: 0.8174\n",
      "Epoch 15/100\n",
      "32/32 [==============================] - 0s 4ms/step - loss: 0.5905 - accuracy: 0.8356 - val_loss: 0.5828 - val_accuracy: 0.8174\n",
      "Epoch 16/100\n",
      "32/32 [==============================] - 0s 3ms/step - loss: 0.5820 - accuracy: 0.8356 - val_loss: 0.5740 - val_accuracy: 0.8219\n",
      "Epoch 17/100\n",
      "32/32 [==============================] - 0s 4ms/step - loss: 0.5735 - accuracy: 0.8337 - val_loss: 0.5651 - val_accuracy: 0.8311\n",
      "Epoch 18/100\n",
      "32/32 [==============================] - 0s 4ms/step - loss: 0.5645 - accuracy: 0.8425 - val_loss: 0.5559 - val_accuracy: 0.8311\n",
      "Epoch 19/100\n",
      "32/32 [==============================] - 0s 4ms/step - loss: 0.5554 - accuracy: 0.8425 - val_loss: 0.5465 - val_accuracy: 0.8402\n",
      "Epoch 20/100\n",
      "32/32 [==============================] - 0s 4ms/step - loss: 0.5460 - accuracy: 0.8474 - val_loss: 0.5369 - val_accuracy: 0.8402\n",
      "Epoch 21/100\n",
      "32/32 [==============================] - 0s 4ms/step - loss: 0.5366 - accuracy: 0.8474 - val_loss: 0.5273 - val_accuracy: 0.8402\n",
      "Epoch 22/100\n",
      "32/32 [==============================] - 0s 4ms/step - loss: 0.5269 - accuracy: 0.8444 - val_loss: 0.5177 - val_accuracy: 0.8493\n",
      "Epoch 23/100\n",
      "32/32 [==============================] - 0s 4ms/step - loss: 0.5172 - accuracy: 0.8523 - val_loss: 0.5076 - val_accuracy: 0.8493\n",
      "Epoch 24/100\n",
      "32/32 [==============================] - 0s 4ms/step - loss: 0.5071 - accuracy: 0.8503 - val_loss: 0.4975 - val_accuracy: 0.8584\n",
      "Epoch 25/100\n",
      "32/32 [==============================] - 0s 4ms/step - loss: 0.4971 - accuracy: 0.8620 - val_loss: 0.4876 - val_accuracy: 0.8539\n",
      "Epoch 26/100\n",
      "32/32 [==============================] - 0s 3ms/step - loss: 0.4876 - accuracy: 0.8601 - val_loss: 0.4782 - val_accuracy: 0.8539\n",
      "Epoch 27/100\n",
      "32/32 [==============================] - 0s 4ms/step - loss: 0.4782 - accuracy: 0.8562 - val_loss: 0.4689 - val_accuracy: 0.8539\n",
      "Epoch 28/100\n",
      "32/32 [==============================] - 0s 4ms/step - loss: 0.4691 - accuracy: 0.8591 - val_loss: 0.4599 - val_accuracy: 0.8539\n",
      "Epoch 29/100\n",
      "32/32 [==============================] - 0s 4ms/step - loss: 0.4603 - accuracy: 0.8601 - val_loss: 0.4511 - val_accuracy: 0.8584\n",
      "Epoch 30/100\n",
      "32/32 [==============================] - 0s 4ms/step - loss: 0.4515 - accuracy: 0.8679 - val_loss: 0.4427 - val_accuracy: 0.8539\n",
      "Epoch 31/100\n",
      "32/32 [==============================] - 0s 3ms/step - loss: 0.4434 - accuracy: 0.8669 - val_loss: 0.4346 - val_accuracy: 0.8539\n",
      "Epoch 32/100\n",
      "32/32 [==============================] - 0s 3ms/step - loss: 0.4354 - accuracy: 0.8689 - val_loss: 0.4268 - val_accuracy: 0.8676\n",
      "Epoch 33/100\n",
      "32/32 [==============================] - 0s 4ms/step - loss: 0.4277 - accuracy: 0.8728 - val_loss: 0.4194 - val_accuracy: 0.8676\n",
      "Epoch 34/100\n",
      "32/32 [==============================] - 0s 3ms/step - loss: 0.4205 - accuracy: 0.8650 - val_loss: 0.4123 - val_accuracy: 0.8630\n",
      "Epoch 35/100\n",
      "32/32 [==============================] - 0s 4ms/step - loss: 0.4137 - accuracy: 0.8738 - val_loss: 0.4056 - val_accuracy: 0.8630\n",
      "Epoch 36/100\n",
      "32/32 [==============================] - 0s 4ms/step - loss: 0.4071 - accuracy: 0.8728 - val_loss: 0.3994 - val_accuracy: 0.8630\n",
      "Epoch 37/100\n",
      "32/32 [==============================] - 0s 4ms/step - loss: 0.4010 - accuracy: 0.8757 - val_loss: 0.3937 - val_accuracy: 0.8630\n",
      "Epoch 38/100\n",
      "32/32 [==============================] - 0s 4ms/step - loss: 0.3954 - accuracy: 0.8748 - val_loss: 0.3880 - val_accuracy: 0.8676\n",
      "Epoch 39/100\n",
      "32/32 [==============================] - 0s 3ms/step - loss: 0.3901 - accuracy: 0.8718 - val_loss: 0.3825 - val_accuracy: 0.8630\n",
      "Epoch 40/100\n",
      "32/32 [==============================] - 0s 3ms/step - loss: 0.3847 - accuracy: 0.8757 - val_loss: 0.3778 - val_accuracy: 0.8676\n",
      "Epoch 41/100\n",
      "32/32 [==============================] - 0s 3ms/step - loss: 0.3799 - accuracy: 0.8806 - val_loss: 0.3729 - val_accuracy: 0.8676\n",
      "Epoch 42/100\n",
      "32/32 [==============================] - 0s 3ms/step - loss: 0.3757 - accuracy: 0.8767 - val_loss: 0.3686 - val_accuracy: 0.8676\n",
      "Epoch 43/100\n",
      "32/32 [==============================] - 0s 4ms/step - loss: 0.3717 - accuracy: 0.8777 - val_loss: 0.3648 - val_accuracy: 0.8676\n",
      "Epoch 44/100\n",
      "32/32 [==============================] - 0s 4ms/step - loss: 0.3675 - accuracy: 0.8767 - val_loss: 0.3609 - val_accuracy: 0.8676\n",
      "Epoch 45/100\n",
      "32/32 [==============================] - 0s 4ms/step - loss: 0.3638 - accuracy: 0.8748 - val_loss: 0.3570 - val_accuracy: 0.8584\n",
      "Epoch 46/100\n",
      "32/32 [==============================] - 0s 4ms/step - loss: 0.3607 - accuracy: 0.8806 - val_loss: 0.3537 - val_accuracy: 0.8676\n",
      "Epoch 47/100\n",
      "32/32 [==============================] - 0s 4ms/step - loss: 0.3571 - accuracy: 0.8757 - val_loss: 0.3503 - val_accuracy: 0.8584\n",
      "Epoch 48/100\n",
      "32/32 [==============================] - 0s 4ms/step - loss: 0.3545 - accuracy: 0.8777 - val_loss: 0.3473 - val_accuracy: 0.8584\n",
      "Epoch 49/100\n",
      "32/32 [==============================] - 0s 3ms/step - loss: 0.3511 - accuracy: 0.8738 - val_loss: 0.3451 - val_accuracy: 0.8630\n",
      "Epoch 50/100\n",
      "32/32 [==============================] - 0s 4ms/step - loss: 0.3486 - accuracy: 0.8796 - val_loss: 0.3422 - val_accuracy: 0.8630\n",
      "Epoch 51/100\n",
      "32/32 [==============================] - 0s 4ms/step - loss: 0.3459 - accuracy: 0.8806 - val_loss: 0.3397 - val_accuracy: 0.8630\n",
      "Epoch 52/100\n",
      "32/32 [==============================] - 0s 3ms/step - loss: 0.3439 - accuracy: 0.8777 - val_loss: 0.3369 - val_accuracy: 0.8584\n",
      "Epoch 53/100\n",
      "32/32 [==============================] - 0s 4ms/step - loss: 0.3418 - accuracy: 0.8816 - val_loss: 0.3349 - val_accuracy: 0.8584\n",
      "Epoch 54/100\n",
      "32/32 [==============================] - 0s 4ms/step - loss: 0.3392 - accuracy: 0.8777 - val_loss: 0.3330 - val_accuracy: 0.8584\n",
      "Epoch 55/100\n",
      "32/32 [==============================] - 0s 4ms/step - loss: 0.3369 - accuracy: 0.8767 - val_loss: 0.3306 - val_accuracy: 0.8584\n",
      "Epoch 56/100\n",
      "32/32 [==============================] - 0s 4ms/step - loss: 0.3352 - accuracy: 0.8796 - val_loss: 0.3290 - val_accuracy: 0.8584\n",
      "Epoch 57/100\n",
      "32/32 [==============================] - 0s 4ms/step - loss: 0.3333 - accuracy: 0.8796 - val_loss: 0.3275 - val_accuracy: 0.8630\n",
      "Epoch 58/100\n",
      "32/32 [==============================] - 0s 4ms/step - loss: 0.3317 - accuracy: 0.8787 - val_loss: 0.3257 - val_accuracy: 0.8584\n"
     ]
    },
    {
     "name": "stdout",
     "output_type": "stream",
     "text": [
      "Epoch 59/100\n",
      "32/32 [==============================] - 0s 4ms/step - loss: 0.3299 - accuracy: 0.8796 - val_loss: 0.3237 - val_accuracy: 0.8584\n",
      "Epoch 60/100\n",
      "32/32 [==============================] - 0s 3ms/step - loss: 0.3276 - accuracy: 0.8806 - val_loss: 0.3241 - val_accuracy: 0.8676\n",
      "Epoch 61/100\n",
      "32/32 [==============================] - 0s 4ms/step - loss: 0.3270 - accuracy: 0.8787 - val_loss: 0.3215 - val_accuracy: 0.8630\n",
      "Epoch 62/100\n",
      "32/32 [==============================] - 0s 4ms/step - loss: 0.3255 - accuracy: 0.8806 - val_loss: 0.3195 - val_accuracy: 0.8584\n",
      "Epoch 63/100\n",
      "32/32 [==============================] - 0s 4ms/step - loss: 0.3241 - accuracy: 0.8836 - val_loss: 0.3176 - val_accuracy: 0.8676\n",
      "Epoch 64/100\n",
      "32/32 [==============================] - 0s 4ms/step - loss: 0.3224 - accuracy: 0.8757 - val_loss: 0.3164 - val_accuracy: 0.8676\n",
      "Epoch 65/100\n",
      "32/32 [==============================] - 0s 3ms/step - loss: 0.3208 - accuracy: 0.8777 - val_loss: 0.3162 - val_accuracy: 0.8676\n",
      "Epoch 66/100\n",
      "32/32 [==============================] - 0s 4ms/step - loss: 0.3193 - accuracy: 0.8796 - val_loss: 0.3148 - val_accuracy: 0.8676\n",
      "Epoch 67/100\n",
      "32/32 [==============================] - 0s 4ms/step - loss: 0.3194 - accuracy: 0.8845 - val_loss: 0.3129 - val_accuracy: 0.8630\n",
      "Epoch 68/100\n",
      "32/32 [==============================] - 0s 4ms/step - loss: 0.3175 - accuracy: 0.8806 - val_loss: 0.3117 - val_accuracy: 0.8630\n",
      "Epoch 69/100\n",
      "32/32 [==============================] - 0s 3ms/step - loss: 0.3160 - accuracy: 0.8816 - val_loss: 0.3104 - val_accuracy: 0.8676\n",
      "Epoch 70/100\n",
      "32/32 [==============================] - 0s 4ms/step - loss: 0.3150 - accuracy: 0.8845 - val_loss: 0.3101 - val_accuracy: 0.8721\n",
      "Epoch 71/100\n",
      "32/32 [==============================] - 0s 4ms/step - loss: 0.3139 - accuracy: 0.8816 - val_loss: 0.3085 - val_accuracy: 0.8630\n",
      "Epoch 72/100\n",
      "32/32 [==============================] - 0s 4ms/step - loss: 0.3129 - accuracy: 0.8826 - val_loss: 0.3077 - val_accuracy: 0.8676\n",
      "Epoch 73/100\n",
      "32/32 [==============================] - 0s 4ms/step - loss: 0.3115 - accuracy: 0.8855 - val_loss: 0.3064 - val_accuracy: 0.8676\n",
      "Epoch 74/100\n",
      "32/32 [==============================] - 0s 3ms/step - loss: 0.3104 - accuracy: 0.8826 - val_loss: 0.3071 - val_accuracy: 0.8676\n",
      "Epoch 75/100\n",
      "32/32 [==============================] - 0s 3ms/step - loss: 0.3098 - accuracy: 0.8845 - val_loss: 0.3049 - val_accuracy: 0.8676\n",
      "Epoch 76/100\n",
      "32/32 [==============================] - 0s 4ms/step - loss: 0.3087 - accuracy: 0.8806 - val_loss: 0.3037 - val_accuracy: 0.8721\n",
      "Epoch 77/100\n",
      "32/32 [==============================] - 0s 4ms/step - loss: 0.3077 - accuracy: 0.8816 - val_loss: 0.3030 - val_accuracy: 0.8721\n",
      "Epoch 78/100\n",
      "32/32 [==============================] - 0s 4ms/step - loss: 0.3065 - accuracy: 0.8845 - val_loss: 0.3020 - val_accuracy: 0.8721\n",
      "Epoch 79/100\n",
      "32/32 [==============================] - 0s 4ms/step - loss: 0.3057 - accuracy: 0.8816 - val_loss: 0.3011 - val_accuracy: 0.8721\n",
      "Epoch 80/100\n",
      "32/32 [==============================] - 0s 4ms/step - loss: 0.3051 - accuracy: 0.8826 - val_loss: 0.3008 - val_accuracy: 0.8676\n",
      "Epoch 81/100\n",
      "32/32 [==============================] - 0s 4ms/step - loss: 0.3038 - accuracy: 0.8855 - val_loss: 0.2995 - val_accuracy: 0.8767\n",
      "Epoch 82/100\n",
      "32/32 [==============================] - 0s 4ms/step - loss: 0.3035 - accuracy: 0.8875 - val_loss: 0.2988 - val_accuracy: 0.8767\n",
      "Epoch 83/100\n",
      "32/32 [==============================] - 0s 4ms/step - loss: 0.3023 - accuracy: 0.8836 - val_loss: 0.2986 - val_accuracy: 0.8721\n",
      "Epoch 84/100\n",
      "32/32 [==============================] - 0s 4ms/step - loss: 0.3016 - accuracy: 0.8855 - val_loss: 0.2973 - val_accuracy: 0.8767\n",
      "Epoch 85/100\n",
      "32/32 [==============================] - 0s 4ms/step - loss: 0.3008 - accuracy: 0.8836 - val_loss: 0.2966 - val_accuracy: 0.8767\n",
      "Epoch 86/100\n",
      "32/32 [==============================] - 0s 3ms/step - loss: 0.3001 - accuracy: 0.8865 - val_loss: 0.2959 - val_accuracy: 0.8767\n",
      "Epoch 87/100\n",
      "32/32 [==============================] - 0s 4ms/step - loss: 0.2990 - accuracy: 0.8845 - val_loss: 0.2970 - val_accuracy: 0.8676\n",
      "Epoch 88/100\n",
      "32/32 [==============================] - 0s 4ms/step - loss: 0.2983 - accuracy: 0.8855 - val_loss: 0.2969 - val_accuracy: 0.8676\n",
      "Epoch 89/100\n",
      "32/32 [==============================] - 0s 4ms/step - loss: 0.2982 - accuracy: 0.8875 - val_loss: 0.2940 - val_accuracy: 0.8721\n",
      "Epoch 90/100\n",
      "32/32 [==============================] - 0s 4ms/step - loss: 0.2973 - accuracy: 0.8875 - val_loss: 0.2933 - val_accuracy: 0.8721\n",
      "Epoch 91/100\n",
      "32/32 [==============================] - 0s 3ms/step - loss: 0.2962 - accuracy: 0.8875 - val_loss: 0.2938 - val_accuracy: 0.8676\n",
      "Epoch 92/100\n",
      "32/32 [==============================] - 0s 3ms/step - loss: 0.2959 - accuracy: 0.8875 - val_loss: 0.2928 - val_accuracy: 0.8721\n",
      "Epoch 93/100\n",
      "32/32 [==============================] - 0s 3ms/step - loss: 0.2946 - accuracy: 0.8865 - val_loss: 0.2914 - val_accuracy: 0.8767\n",
      "Epoch 94/100\n",
      "32/32 [==============================] - 0s 3ms/step - loss: 0.2946 - accuracy: 0.8845 - val_loss: 0.2909 - val_accuracy: 0.8721\n",
      "Epoch 95/100\n",
      "32/32 [==============================] - 0s 3ms/step - loss: 0.2937 - accuracy: 0.8836 - val_loss: 0.2922 - val_accuracy: 0.8676\n",
      "Epoch 96/100\n",
      "32/32 [==============================] - 0s 4ms/step - loss: 0.2929 - accuracy: 0.8865 - val_loss: 0.2928 - val_accuracy: 0.8676\n",
      "Epoch 97/100\n",
      "32/32 [==============================] - 0s 4ms/step - loss: 0.2922 - accuracy: 0.8894 - val_loss: 0.2891 - val_accuracy: 0.8813\n",
      "Epoch 98/100\n",
      "32/32 [==============================] - 0s 4ms/step - loss: 0.2915 - accuracy: 0.8914 - val_loss: 0.2888 - val_accuracy: 0.8767\n",
      "Epoch 99/100\n",
      "32/32 [==============================] - 0s 4ms/step - loss: 0.2912 - accuracy: 0.8875 - val_loss: 0.2881 - val_accuracy: 0.8813\n",
      "Epoch 100/100\n",
      "32/32 [==============================] - 0s 3ms/step - loss: 0.2910 - accuracy: 0.8914 - val_loss: 0.2875 - val_accuracy: 0.8767\n"
     ]
    }
   ],
   "source": [
    "hist = model.fit(X_train, Y_train,\n",
    "          batch_size=32, epochs=100,\n",
    "          validation_data=(X_val, Y_val))"
   ]
  },
  {
   "cell_type": "markdown",
   "metadata": {},
   "source": [
    "Evaluating our data on the test set:"
   ]
  },
  {
   "cell_type": "code",
   "execution_count": 18,
   "metadata": {},
   "outputs": [
    {
     "name": "stdout",
     "output_type": "stream",
     "text": [
      "7/7 [==============================] - 0s 3ms/step - loss: 0.2590 - accuracy: 0.9041\n"
     ]
    },
    {
     "data": {
      "text/plain": [
       "0.9041095972061157"
      ]
     },
     "execution_count": 18,
     "metadata": {},
     "output_type": "execute_result"
    }
   ],
   "source": [
    "model.evaluate(X_test, Y_test)[1]"
   ]
  },
  {
   "cell_type": "markdown",
   "metadata": {},
   "source": [
    "# Visualizing Loss and Accuracy"
   ]
  },
  {
   "cell_type": "markdown",
   "metadata": {},
   "source": [
    "Import the relevant package we need to do the visualization"
   ]
  },
  {
   "cell_type": "code",
   "execution_count": 19,
   "metadata": {},
   "outputs": [],
   "source": [
    "import matplotlib.pyplot as plt"
   ]
  },
  {
   "cell_type": "markdown",
   "metadata": {},
   "source": [
    "We want to visualize the training loss and the validation loss like this:"
   ]
  },
  {
   "cell_type": "code",
   "execution_count": 20,
   "metadata": {},
   "outputs": [
    {
     "data": {
      "image/png": "[encoded data removed]",
      "text/plain": [
       "<Figure size 432x288 with 1 Axes>"
      ]
     },
     "metadata": {
      "needs_background": "light"
     },
     "output_type": "display_data"
    }
   ],
   "source": [
    "plt.plot(hist.history['loss'])\n",
    "plt.plot(hist.history['val_loss'])\n",
    "plt.title('Model loss')\n",
    "plt.ylabel('Loss')\n",
    "plt.xlabel('Epoch')\n",
    "plt.legend(['Train', 'Val'], loc='upper right')\n",
    "plt.show()"
   ]
  },
  {
   "cell_type": "markdown",
   "metadata": {},
   "source": [
    "We can also visualize the training accuracy and the validation accuracy like this:"
   ]
  },
  {
   "cell_type": "code",
   "execution_count": 21,
   "metadata": {},
   "outputs": [
    {
     "data": {
      "image/png": "[encoded data removed]",
      "text/plain": [
       "<Figure size 432x288 with 1 Axes>"
      ]
     },
     "metadata": {
      "needs_background": "light"
     },
     "output_type": "display_data"
    }
   ],
   "source": [
    "plt.plot(hist.history['accuracy'])\n",
    "plt.plot(hist.history['val_accuracy'])\n",
    "plt.title('Model accuracy')\n",
    "plt.ylabel('Accuracy')\n",
    "plt.xlabel('Epoch')\n",
    "plt.legend(['Train', 'Val'], loc='lower right')\n",
    "plt.show()"
   ]
  },
  {
   "cell_type": "markdown",
   "metadata": {},
   "source": [
    "# Adding Regularization to our Neural Network"
   ]
  },
  {
   "cell_type": "markdown",
   "metadata": {},
   "source": [
    "We'll train a model which will overfit, which we call Model 2. This might take a few minutes."
   ]
  },
  {
   "cell_type": "code",
   "execution_count": 22,
   "metadata": {},
   "outputs": [
    {
     "name": "stdout",
     "output_type": "stream",
     "text": [
      "Epoch 1/100\n",
      "32/32 [==============================] - 2s 34ms/step - loss: 0.4531 - accuracy: 0.7828 - val_loss: 0.3352 - val_accuracy: 0.8539\n",
      "Epoch 2/100\n",
      "32/32 [==============================] - 1s 25ms/step - loss: 0.3538 - accuracy: 0.8650 - val_loss: 0.3154 - val_accuracy: 0.8493\n",
      "Epoch 3/100\n",
      "32/32 [==============================] - 1s 25ms/step - loss: 0.3246 - accuracy: 0.8708 - val_loss: 0.3864 - val_accuracy: 0.8447\n",
      "Epoch 4/100\n",
      "32/32 [==============================] - 1s 25ms/step - loss: 0.3028 - accuracy: 0.8728 - val_loss: 0.2404 - val_accuracy: 0.8904\n",
      "Epoch 5/100\n",
      "32/32 [==============================] - 1s 25ms/step - loss: 0.2738 - accuracy: 0.8933 - val_loss: 0.2857 - val_accuracy: 0.8630\n",
      "Epoch 6/100\n",
      "32/32 [==============================] - 1s 24ms/step - loss: 0.2697 - accuracy: 0.8845 - val_loss: 0.2551 - val_accuracy: 0.8950\n",
      "Epoch 7/100\n",
      "32/32 [==============================] - 1s 24ms/step - loss: 0.2457 - accuracy: 0.8992 - val_loss: 0.2579 - val_accuracy: 0.8950\n",
      "Epoch 8/100\n",
      "32/32 [==============================] - 1s 24ms/step - loss: 0.2615 - accuracy: 0.8904 - val_loss: 0.2333 - val_accuracy: 0.8904\n",
      "Epoch 9/100\n",
      "32/32 [==============================] - 1s 24ms/step - loss: 0.2476 - accuracy: 0.8933 - val_loss: 0.3245 - val_accuracy: 0.8539\n",
      "Epoch 10/100\n",
      "32/32 [==============================] - 1s 24ms/step - loss: 0.2700 - accuracy: 0.8845 - val_loss: 0.2696 - val_accuracy: 0.8813\n",
      "Epoch 11/100\n",
      "32/32 [==============================] - 1s 24ms/step - loss: 0.2422 - accuracy: 0.8953 - val_loss: 0.2102 - val_accuracy: 0.9087\n",
      "Epoch 12/100\n",
      "32/32 [==============================] - 1s 24ms/step - loss: 0.2243 - accuracy: 0.9031 - val_loss: 0.2487 - val_accuracy: 0.8950\n",
      "Epoch 13/100\n",
      "32/32 [==============================] - 1s 24ms/step - loss: 0.2320 - accuracy: 0.9041 - val_loss: 0.2158 - val_accuracy: 0.9087\n",
      "Epoch 14/100\n",
      "32/32 [==============================] - 1s 24ms/step - loss: 0.2562 - accuracy: 0.8894 - val_loss: 0.3117 - val_accuracy: 0.8630\n",
      "Epoch 15/100\n",
      "32/32 [==============================] - 1s 24ms/step - loss: 0.2720 - accuracy: 0.8963 - val_loss: 0.2967 - val_accuracy: 0.8676\n",
      "Epoch 16/100\n",
      "32/32 [==============================] - 1s 25ms/step - loss: 0.2378 - accuracy: 0.8963 - val_loss: 0.2371 - val_accuracy: 0.9041\n",
      "Epoch 17/100\n",
      "32/32 [==============================] - 1s 25ms/step - loss: 0.2120 - accuracy: 0.9080 - val_loss: 0.2248 - val_accuracy: 0.8995\n",
      "Epoch 18/100\n",
      "32/32 [==============================] - 1s 25ms/step - loss: 0.2138 - accuracy: 0.9129 - val_loss: 0.2392 - val_accuracy: 0.9087\n",
      "Epoch 19/100\n",
      "32/32 [==============================] - 1s 24ms/step - loss: 0.2207 - accuracy: 0.8953 - val_loss: 0.2038 - val_accuracy: 0.8950\n",
      "Epoch 20/100\n",
      "32/32 [==============================] - 1s 24ms/step - loss: 0.2134 - accuracy: 0.9159 - val_loss: 0.2146 - val_accuracy: 0.8950\n",
      "Epoch 21/100\n",
      "32/32 [==============================] - 1s 24ms/step - loss: 0.2033 - accuracy: 0.9119 - val_loss: 0.2149 - val_accuracy: 0.8995\n",
      "Epoch 22/100\n",
      "32/32 [==============================] - 1s 24ms/step - loss: 0.2138 - accuracy: 0.9159 - val_loss: 0.2170 - val_accuracy: 0.8950\n",
      "Epoch 23/100\n",
      "32/32 [==============================] - 1s 24ms/step - loss: 0.2016 - accuracy: 0.9149 - val_loss: 0.2255 - val_accuracy: 0.8950\n",
      "Epoch 24/100\n",
      "32/32 [==============================] - 1s 24ms/step - loss: 0.2086 - accuracy: 0.9080 - val_loss: 0.2486 - val_accuracy: 0.8858\n",
      "Epoch 25/100\n",
      "32/32 [==============================] - 1s 24ms/step - loss: 0.1945 - accuracy: 0.9247 - val_loss: 0.2432 - val_accuracy: 0.8813\n",
      "Epoch 26/100\n",
      "32/32 [==============================] - 1s 24ms/step - loss: 0.2077 - accuracy: 0.9129 - val_loss: 0.2381 - val_accuracy: 0.8904\n",
      "Epoch 27/100\n",
      "32/32 [==============================] - 1s 24ms/step - loss: 0.1970 - accuracy: 0.9237 - val_loss: 0.2349 - val_accuracy: 0.8813\n",
      "Epoch 28/100\n",
      "32/32 [==============================] - 1s 24ms/step - loss: 0.2053 - accuracy: 0.9129 - val_loss: 0.2181 - val_accuracy: 0.8995\n",
      "Epoch 29/100\n",
      "32/32 [==============================] - 1s 24ms/step - loss: 0.2131 - accuracy: 0.9051 - val_loss: 0.2728 - val_accuracy: 0.8858\n",
      "Epoch 30/100\n",
      "32/32 [==============================] - 1s 24ms/step - loss: 0.2091 - accuracy: 0.9129 - val_loss: 0.2425 - val_accuracy: 0.8950\n",
      "Epoch 31/100\n",
      "32/32 [==============================] - 1s 24ms/step - loss: 0.2195 - accuracy: 0.9168 - val_loss: 0.2616 - val_accuracy: 0.9041\n",
      "Epoch 32/100\n",
      "32/32 [==============================] - 1s 24ms/step - loss: 0.2124 - accuracy: 0.9188 - val_loss: 0.2574 - val_accuracy: 0.8676\n",
      "Epoch 33/100\n",
      "32/32 [==============================] - 1s 24ms/step - loss: 0.2286 - accuracy: 0.9041 - val_loss: 0.2450 - val_accuracy: 0.8767\n",
      "Epoch 34/100\n",
      "32/32 [==============================] - 1s 26ms/step - loss: 0.2055 - accuracy: 0.9188 - val_loss: 0.2260 - val_accuracy: 0.8950\n",
      "Epoch 35/100\n",
      "32/32 [==============================] - 1s 24ms/step - loss: 0.1905 - accuracy: 0.9237 - val_loss: 0.2117 - val_accuracy: 0.8858\n",
      "Epoch 36/100\n",
      "32/32 [==============================] - 1s 24ms/step - loss: 0.1823 - accuracy: 0.9247 - val_loss: 0.2123 - val_accuracy: 0.9132\n",
      "Epoch 37/100\n",
      "32/32 [==============================] - 1s 25ms/step - loss: 0.1884 - accuracy: 0.9198 - val_loss: 0.1944 - val_accuracy: 0.9041\n",
      "Epoch 38/100\n",
      "32/32 [==============================] - 1s 24ms/step - loss: 0.2141 - accuracy: 0.9110 - val_loss: 0.2388 - val_accuracy: 0.9041\n",
      "Epoch 39/100\n",
      "32/32 [==============================] - 1s 25ms/step - loss: 0.2099 - accuracy: 0.9100 - val_loss: 0.2641 - val_accuracy: 0.8858\n",
      "Epoch 40/100\n",
      "32/32 [==============================] - 1s 24ms/step - loss: 0.1784 - accuracy: 0.9198 - val_loss: 0.2136 - val_accuracy: 0.8995\n",
      "Epoch 41/100\n",
      "32/32 [==============================] - 1s 24ms/step - loss: 0.1789 - accuracy: 0.9188 - val_loss: 0.2376 - val_accuracy: 0.8904\n",
      "Epoch 42/100\n",
      "32/32 [==============================] - 1s 26ms/step - loss: 0.1727 - accuracy: 0.9266 - val_loss: 0.2291 - val_accuracy: 0.9041\n",
      "Epoch 43/100\n",
      "32/32 [==============================] - 1s 24ms/step - loss: 0.1920 - accuracy: 0.9198 - val_loss: 0.2749 - val_accuracy: 0.8493\n",
      "Epoch 44/100\n",
      "32/32 [==============================] - 1s 24ms/step - loss: 0.1861 - accuracy: 0.9217 - val_loss: 0.2387 - val_accuracy: 0.8858\n",
      "Epoch 45/100\n",
      "32/32 [==============================] - 1s 24ms/step - loss: 0.1727 - accuracy: 0.9227 - val_loss: 0.2216 - val_accuracy: 0.8904\n",
      "Epoch 46/100\n",
      "32/32 [==============================] - 1s 24ms/step - loss: 0.1926 - accuracy: 0.9207 - val_loss: 0.2322 - val_accuracy: 0.8995\n",
      "Epoch 47/100\n",
      "32/32 [==============================] - 1s 24ms/step - loss: 0.1907 - accuracy: 0.9227 - val_loss: 0.2666 - val_accuracy: 0.8995\n",
      "Epoch 48/100\n",
      "32/32 [==============================] - 1s 24ms/step - loss: 0.1789 - accuracy: 0.9198 - val_loss: 0.2242 - val_accuracy: 0.8767\n",
      "Epoch 49/100\n",
      "32/32 [==============================] - 1s 24ms/step - loss: 0.1726 - accuracy: 0.9276 - val_loss: 0.2435 - val_accuracy: 0.8950\n",
      "Epoch 50/100\n",
      "32/32 [==============================] - 1s 24ms/step - loss: 0.1618 - accuracy: 0.9315 - val_loss: 0.2355 - val_accuracy: 0.8950\n",
      "Epoch 51/100\n",
      "32/32 [==============================] - 1s 24ms/step - loss: 0.1666 - accuracy: 0.9256 - val_loss: 0.2146 - val_accuracy: 0.8904\n",
      "Epoch 52/100\n",
      "32/32 [==============================] - 1s 24ms/step - loss: 0.1824 - accuracy: 0.9188 - val_loss: 0.2432 - val_accuracy: 0.8858\n",
      "Epoch 53/100\n",
      "32/32 [==============================] - 1s 24ms/step - loss: 0.1812 - accuracy: 0.9198 - val_loss: 0.2133 - val_accuracy: 0.9041\n",
      "Epoch 54/100\n",
      "32/32 [==============================] - 1s 24ms/step - loss: 0.1797 - accuracy: 0.9276 - val_loss: 0.2606 - val_accuracy: 0.8858\n",
      "Epoch 55/100\n",
      "32/32 [==============================] - 1s 24ms/step - loss: 0.1796 - accuracy: 0.9207 - val_loss: 0.2324 - val_accuracy: 0.8721\n",
      "Epoch 56/100\n",
      "32/32 [==============================] - 1s 24ms/step - loss: 0.1620 - accuracy: 0.9344 - val_loss: 0.2351 - val_accuracy: 0.8995\n",
      "Epoch 57/100\n",
      "32/32 [==============================] - 1s 24ms/step - loss: 0.2012 - accuracy: 0.9080 - val_loss: 0.2146 - val_accuracy: 0.8904\n",
      "Epoch 58/100\n"
     ]
    },
    {
     "name": "stdout",
     "output_type": "stream",
     "text": [
      "32/32 [==============================] - 1s 24ms/step - loss: 0.1827 - accuracy: 0.9237 - val_loss: 0.2517 - val_accuracy: 0.8950\n",
      "Epoch 59/100\n",
      "32/32 [==============================] - 1s 24ms/step - loss: 0.1879 - accuracy: 0.9237 - val_loss: 0.2105 - val_accuracy: 0.8950\n",
      "Epoch 60/100\n",
      "32/32 [==============================] - 1s 24ms/step - loss: 0.1641 - accuracy: 0.9325 - val_loss: 0.1991 - val_accuracy: 0.8995\n",
      "Epoch 61/100\n",
      "32/32 [==============================] - 1s 24ms/step - loss: 0.1539 - accuracy: 0.9432 - val_loss: 0.2449 - val_accuracy: 0.8813\n",
      "Epoch 62/100\n",
      "32/32 [==============================] - 1s 24ms/step - loss: 0.1526 - accuracy: 0.9276 - val_loss: 0.2515 - val_accuracy: 0.8904\n",
      "Epoch 63/100\n",
      "32/32 [==============================] - 1s 24ms/step - loss: 0.1596 - accuracy: 0.9295 - val_loss: 0.2098 - val_accuracy: 0.8904\n",
      "Epoch 64/100\n",
      "32/32 [==============================] - 1s 24ms/step - loss: 0.1548 - accuracy: 0.9344 - val_loss: 0.2658 - val_accuracy: 0.8721\n",
      "Epoch 65/100\n",
      "32/32 [==============================] - 1s 24ms/step - loss: 0.1482 - accuracy: 0.9364 - val_loss: 0.2343 - val_accuracy: 0.8721\n",
      "Epoch 66/100\n",
      "32/32 [==============================] - 1s 24ms/step - loss: 0.1402 - accuracy: 0.9374 - val_loss: 0.2417 - val_accuracy: 0.8813\n",
      "Epoch 67/100\n",
      "32/32 [==============================] - 1s 24ms/step - loss: 0.2246 - accuracy: 0.9041 - val_loss: 0.2839 - val_accuracy: 0.8904\n",
      "Epoch 68/100\n",
      "32/32 [==============================] - 1s 24ms/step - loss: 0.2001 - accuracy: 0.9188 - val_loss: 0.2314 - val_accuracy: 0.8950\n",
      "Epoch 69/100\n",
      "32/32 [==============================] - 1s 24ms/step - loss: 0.1681 - accuracy: 0.9256 - val_loss: 0.2651 - val_accuracy: 0.8858\n",
      "Epoch 70/100\n",
      "32/32 [==============================] - 1s 24ms/step - loss: 0.1577 - accuracy: 0.9393 - val_loss: 0.2453 - val_accuracy: 0.8858\n",
      "Epoch 71/100\n",
      "32/32 [==============================] - 1s 24ms/step - loss: 0.1406 - accuracy: 0.9432 - val_loss: 0.2419 - val_accuracy: 0.8950\n",
      "Epoch 72/100\n",
      "32/32 [==============================] - 1s 24ms/step - loss: 0.1456 - accuracy: 0.9462 - val_loss: 0.2666 - val_accuracy: 0.8904\n",
      "Epoch 73/100\n",
      "32/32 [==============================] - 1s 23ms/step - loss: 0.1459 - accuracy: 0.9364 - val_loss: 0.3145 - val_accuracy: 0.8584\n",
      "Epoch 74/100\n",
      "32/32 [==============================] - 1s 24ms/step - loss: 0.1533 - accuracy: 0.9472 - val_loss: 0.2661 - val_accuracy: 0.8676\n",
      "Epoch 75/100\n",
      "32/32 [==============================] - 1s 24ms/step - loss: 0.1432 - accuracy: 0.9374 - val_loss: 0.2665 - val_accuracy: 0.8813\n",
      "Epoch 76/100\n",
      "32/32 [==============================] - 1s 24ms/step - loss: 0.1470 - accuracy: 0.9403 - val_loss: 0.2521 - val_accuracy: 0.8950\n",
      "Epoch 77/100\n",
      "32/32 [==============================] - 1s 24ms/step - loss: 0.1405 - accuracy: 0.9403 - val_loss: 0.3088 - val_accuracy: 0.9041\n",
      "Epoch 78/100\n",
      "32/32 [==============================] - 1s 24ms/step - loss: 0.1660 - accuracy: 0.9276 - val_loss: 0.2998 - val_accuracy: 0.8950\n",
      "Epoch 79/100\n",
      "32/32 [==============================] - 1s 24ms/step - loss: 0.1378 - accuracy: 0.9452 - val_loss: 0.2516 - val_accuracy: 0.8858\n",
      "Epoch 80/100\n",
      "32/32 [==============================] - 1s 24ms/step - loss: 0.1657 - accuracy: 0.9286 - val_loss: 0.2405 - val_accuracy: 0.8813\n",
      "Epoch 81/100\n",
      "32/32 [==============================] - 1s 24ms/step - loss: 0.1504 - accuracy: 0.9393 - val_loss: 0.2589 - val_accuracy: 0.8858\n",
      "Epoch 82/100\n",
      "32/32 [==============================] - 1s 24ms/step - loss: 0.1378 - accuracy: 0.9423 - val_loss: 0.2408 - val_accuracy: 0.8904\n",
      "Epoch 83/100\n",
      "32/32 [==============================] - 1s 24ms/step - loss: 0.1233 - accuracy: 0.9481 - val_loss: 0.2768 - val_accuracy: 0.8858\n",
      "Epoch 84/100\n",
      "32/32 [==============================] - 1s 24ms/step - loss: 0.1251 - accuracy: 0.9521 - val_loss: 0.2687 - val_accuracy: 0.8950\n",
      "Epoch 85/100\n",
      "32/32 [==============================] - 1s 24ms/step - loss: 0.1235 - accuracy: 0.9472 - val_loss: 0.3007 - val_accuracy: 0.8858\n",
      "Epoch 86/100\n",
      "32/32 [==============================] - 1s 24ms/step - loss: 0.1489 - accuracy: 0.9374 - val_loss: 0.3468 - val_accuracy: 0.8539\n",
      "Epoch 87/100\n",
      "32/32 [==============================] - 1s 24ms/step - loss: 0.1752 - accuracy: 0.9178 - val_loss: 0.2174 - val_accuracy: 0.9041\n",
      "Epoch 88/100\n",
      "32/32 [==============================] - 1s 24ms/step - loss: 0.1396 - accuracy: 0.9442 - val_loss: 0.2323 - val_accuracy: 0.8950\n",
      "Epoch 89/100\n",
      "32/32 [==============================] - 1s 24ms/step - loss: 0.1270 - accuracy: 0.9423 - val_loss: 0.2280 - val_accuracy: 0.9041\n",
      "Epoch 90/100\n",
      "32/32 [==============================] - 1s 24ms/step - loss: 0.1337 - accuracy: 0.9403 - val_loss: 0.2623 - val_accuracy: 0.8904\n",
      "Epoch 91/100\n",
      "32/32 [==============================] - 1s 24ms/step - loss: 0.1333 - accuracy: 0.9423 - val_loss: 0.2513 - val_accuracy: 0.8904\n",
      "Epoch 92/100\n",
      "32/32 [==============================] - 1s 24ms/step - loss: 0.1187 - accuracy: 0.9569 - val_loss: 0.2878 - val_accuracy: 0.8813\n",
      "Epoch 93/100\n",
      "32/32 [==============================] - 1s 24ms/step - loss: 0.1254 - accuracy: 0.9501 - val_loss: 0.3319 - val_accuracy: 0.8813\n",
      "Epoch 94/100\n",
      "32/32 [==============================] - 1s 24ms/step - loss: 0.2291 - accuracy: 0.9168 - val_loss: 0.2188 - val_accuracy: 0.8813\n",
      "Epoch 95/100\n",
      "32/32 [==============================] - 1s 24ms/step - loss: 0.1618 - accuracy: 0.9305 - val_loss: 0.2732 - val_accuracy: 0.9041\n",
      "Epoch 96/100\n",
      "32/32 [==============================] - 1s 24ms/step - loss: 0.1304 - accuracy: 0.9491 - val_loss: 0.2759 - val_accuracy: 0.9087\n",
      "Epoch 97/100\n",
      "32/32 [==============================] - 1s 24ms/step - loss: 0.1324 - accuracy: 0.9481 - val_loss: 0.3145 - val_accuracy: 0.8858\n",
      "Epoch 98/100\n",
      "32/32 [==============================] - 1s 24ms/step - loss: 0.1320 - accuracy: 0.9413 - val_loss: 0.2717 - val_accuracy: 0.8904\n",
      "Epoch 99/100\n",
      "32/32 [==============================] - 1s 24ms/step - loss: 0.1116 - accuracy: 0.9550 - val_loss: 0.2830 - val_accuracy: 0.8995\n",
      "Epoch 100/100\n",
      "32/32 [==============================] - 1s 24ms/step - loss: 0.1087 - accuracy: 0.9550 - val_loss: 0.2619 - val_accuracy: 0.9041\n"
     ]
    }
   ],
   "source": [
    "model_2 = Sequential([\n",
    "    Dense(1000, activation='relu', input_shape=(10,)),\n",
    "    Dense(1000, activation='relu'),\n",
    "    Dense(1000, activation='relu'),\n",
    "    Dense(1000, activation='relu'),\n",
    "    Dense(1, activation='sigmoid'),\n",
    "])\n",
    "model_2.compile(optimizer='adam',\n",
    "              loss='binary_crossentropy',\n",
    "              metrics=['accuracy'])\n",
    "hist_2 = model_2.fit(X_train, Y_train,\n",
    "          batch_size=32, epochs=100,\n",
    "          validation_data=(X_val, Y_val))"
   ]
  },
  {
   "cell_type": "markdown",
   "metadata": {},
   "source": [
    "Let's do the same visualization to see what overfitting looks like in terms of the loss and accuracy."
   ]
  },
  {
   "cell_type": "code",
   "execution_count": 23,
   "metadata": {},
   "outputs": [
    {
     "data": {
      "image/png": "[encoded data removed]",
      "text/plain": [
       "<Figure size 432x288 with 1 Axes>"
      ]
     },
     "metadata": {
      "needs_background": "light"
     },
     "output_type": "display_data"
    }
   ],
   "source": [
    "plt.plot(hist_2.history['loss'])\n",
    "plt.plot(hist_2.history['val_loss'])\n",
    "plt.title('Model loss')\n",
    "plt.ylabel('Loss')\n",
    "plt.xlabel('Epoch')\n",
    "plt.legend(['Train', 'Val'], loc='upper right')\n",
    "plt.show()"
   ]
  },
  {
   "cell_type": "code",
   "execution_count": 24,
   "metadata": {},
   "outputs": [
    {
     "data": {
      "image/png": "[encoded data removed]",
      "text/plain": [
       "<Figure size 432x288 with 1 Axes>"
      ]
     },
     "metadata": {
      "needs_background": "light"
     },
     "output_type": "display_data"
    }
   ],
   "source": [
    "plt.plot(hist_2.history['accuracy'])\n",
    "plt.plot(hist_2.history['val_accuracy'])\n",
    "plt.title('Model accuracy')\n",
    "plt.ylabel('Accuracy')\n",
    "plt.xlabel('Epoch')\n",
    "plt.legend(['Train', 'Val'], loc='lower right')\n",
    "plt.show()"
   ]
  },
  {
   "cell_type": "markdown",
   "metadata": {},
   "source": [
    "To address the overfitting we see in Model 2, we'll incorporate L2 regularization and dropout in our third model here (Model 3)."
   ]
  },
  {
   "cell_type": "code",
   "execution_count": 25,
   "metadata": {},
   "outputs": [],
   "source": [
    "from keras.layers import Dropout\n",
    "from keras import regularizers"
   ]
  },
  {
   "cell_type": "code",
   "execution_count": 26,
   "metadata": {},
   "outputs": [],
   "source": [
    "model_3 = Sequential([\n",
    "    Dense(1000, activation='relu', kernel_regularizer=regularizers.l2(0.01), input_shape=(10,)),\n",
    "    Dropout(0.3),\n",
    "    Dense(1000, activation='relu', kernel_regularizer=regularizers.l2(0.01)),\n",
    "    Dropout(0.3),\n",
    "    Dense(1000, activation='relu', kernel_regularizer=regularizers.l2(0.01)),\n",
    "    Dropout(0.3),\n",
    "    Dense(1000, activation='relu', kernel_regularizer=regularizers.l2(0.01)),\n",
    "    Dropout(0.3),\n",
    "    Dense(1, activation='sigmoid', kernel_regularizer=regularizers.l2(0.01)),\n",
    "])"
   ]
  },
  {
   "cell_type": "code",
   "execution_count": 27,
   "metadata": {},
   "outputs": [
    {
     "name": "stdout",
     "output_type": "stream",
     "text": [
      "Epoch 1/100\n",
      "32/32 [==============================] - 3s 45ms/step - loss: 14.2463 - accuracy: 0.6859 - val_loss: 3.9304 - val_accuracy: 0.6210\n",
      "Epoch 2/100\n",
      "32/32 [==============================] - 1s 35ms/step - loss: 1.6801 - accuracy: 0.8160 - val_loss: 0.6381 - val_accuracy: 0.8493\n",
      "Epoch 3/100\n",
      "32/32 [==============================] - 1s 35ms/step - loss: 0.5648 - accuracy: 0.8581 - val_loss: 0.4906 - val_accuracy: 0.8539\n",
      "Epoch 4/100\n",
      "32/32 [==============================] - 1s 37ms/step - loss: 0.5117 - accuracy: 0.8689 - val_loss: 0.4763 - val_accuracy: 0.8721\n",
      "Epoch 5/100\n",
      "32/32 [==============================] - 1s 38ms/step - loss: 0.5072 - accuracy: 0.8640 - val_loss: 0.4726 - val_accuracy: 0.8721\n",
      "Epoch 6/100\n",
      "32/32 [==============================] - 1s 36ms/step - loss: 0.4765 - accuracy: 0.8855 - val_loss: 0.4610 - val_accuracy: 0.8721\n",
      "Epoch 7/100\n",
      "32/32 [==============================] - 1s 35ms/step - loss: 0.4877 - accuracy: 0.8591 - val_loss: 0.4636 - val_accuracy: 0.8721\n",
      "Epoch 8/100\n",
      "32/32 [==============================] - 1s 35ms/step - loss: 0.4747 - accuracy: 0.8718 - val_loss: 0.5047 - val_accuracy: 0.8539\n",
      "Epoch 9/100\n",
      "32/32 [==============================] - 1s 35ms/step - loss: 0.4755 - accuracy: 0.8650 - val_loss: 0.4459 - val_accuracy: 0.8767\n",
      "Epoch 10/100\n",
      "32/32 [==============================] - 1s 34ms/step - loss: 0.4819 - accuracy: 0.8679 - val_loss: 0.4712 - val_accuracy: 0.8904\n",
      "Epoch 11/100\n",
      "32/32 [==============================] - 1s 34ms/step - loss: 0.4579 - accuracy: 0.8796 - val_loss: 0.4577 - val_accuracy: 0.8721\n",
      "Epoch 12/100\n",
      "32/32 [==============================] - 1s 34ms/step - loss: 0.4756 - accuracy: 0.8679 - val_loss: 0.4572 - val_accuracy: 0.8767\n",
      "Epoch 13/100\n",
      "32/32 [==============================] - 1s 35ms/step - loss: 0.4739 - accuracy: 0.8689 - val_loss: 0.4701 - val_accuracy: 0.8676\n",
      "Epoch 14/100\n",
      "32/32 [==============================] - 1s 34ms/step - loss: 0.4504 - accuracy: 0.8826 - val_loss: 0.4448 - val_accuracy: 0.8721\n",
      "Epoch 15/100\n",
      "32/32 [==============================] - 1s 34ms/step - loss: 0.4482 - accuracy: 0.8826 - val_loss: 0.4377 - val_accuracy: 0.8813\n",
      "Epoch 16/100\n",
      "32/32 [==============================] - 1s 34ms/step - loss: 0.4641 - accuracy: 0.8728 - val_loss: 0.5093 - val_accuracy: 0.8493\n",
      "Epoch 17/100\n",
      "32/32 [==============================] - 1s 34ms/step - loss: 0.4804 - accuracy: 0.8699 - val_loss: 0.4474 - val_accuracy: 0.8858\n",
      "Epoch 18/100\n",
      "32/32 [==============================] - 1s 34ms/step - loss: 0.4362 - accuracy: 0.8904 - val_loss: 0.4288 - val_accuracy: 0.8767\n",
      "Epoch 19/100\n",
      "32/32 [==============================] - 1s 35ms/step - loss: 0.4559 - accuracy: 0.8796 - val_loss: 0.4344 - val_accuracy: 0.8767\n",
      "Epoch 20/100\n",
      "32/32 [==============================] - 1s 35ms/step - loss: 0.4618 - accuracy: 0.8816 - val_loss: 0.4502 - val_accuracy: 0.8630\n",
      "Epoch 21/100\n",
      "32/32 [==============================] - 1s 36ms/step - loss: 0.4537 - accuracy: 0.8718 - val_loss: 0.4337 - val_accuracy: 0.8813\n",
      "Epoch 22/100\n",
      "32/32 [==============================] - 1s 35ms/step - loss: 0.4419 - accuracy: 0.8777 - val_loss: 0.4575 - val_accuracy: 0.8676\n",
      "Epoch 23/100\n",
      "32/32 [==============================] - 1s 34ms/step - loss: 0.4597 - accuracy: 0.8748 - val_loss: 0.4758 - val_accuracy: 0.8630\n",
      "Epoch 24/100\n",
      "32/32 [==============================] - 1s 34ms/step - loss: 0.4543 - accuracy: 0.8728 - val_loss: 0.4292 - val_accuracy: 0.8767\n",
      "Epoch 25/100\n",
      "32/32 [==============================] - 1s 34ms/step - loss: 0.4395 - accuracy: 0.8885 - val_loss: 0.4358 - val_accuracy: 0.8813\n",
      "Epoch 26/100\n",
      "32/32 [==============================] - 1s 34ms/step - loss: 0.4455 - accuracy: 0.8767 - val_loss: 0.4664 - val_accuracy: 0.8676\n",
      "Epoch 27/100\n",
      "32/32 [==============================] - 1s 34ms/step - loss: 0.4490 - accuracy: 0.8836 - val_loss: 0.4258 - val_accuracy: 0.8767\n",
      "Epoch 28/100\n",
      "32/32 [==============================] - 1s 34ms/step - loss: 0.4652 - accuracy: 0.8679 - val_loss: 0.4727 - val_accuracy: 0.8767\n",
      "Epoch 29/100\n",
      "32/32 [==============================] - 1s 35ms/step - loss: 0.4518 - accuracy: 0.8767 - val_loss: 0.4329 - val_accuracy: 0.8630\n",
      "Epoch 30/100\n",
      "32/32 [==============================] - 1s 34ms/step - loss: 0.4333 - accuracy: 0.8855 - val_loss: 0.4306 - val_accuracy: 0.8676\n",
      "Epoch 31/100\n",
      "32/32 [==============================] - 1s 34ms/step - loss: 0.4314 - accuracy: 0.8914 - val_loss: 0.4460 - val_accuracy: 0.8721\n",
      "Epoch 32/100\n",
      "32/32 [==============================] - 1s 34ms/step - loss: 0.4502 - accuracy: 0.8806 - val_loss: 0.4600 - val_accuracy: 0.8721\n",
      "Epoch 33/100\n",
      "32/32 [==============================] - 1s 34ms/step - loss: 0.4704 - accuracy: 0.8767 - val_loss: 0.4469 - val_accuracy: 0.8676\n",
      "Epoch 34/100\n",
      "32/32 [==============================] - 1s 34ms/step - loss: 0.4517 - accuracy: 0.8836 - val_loss: 0.4296 - val_accuracy: 0.8767\n",
      "Epoch 35/100\n",
      "32/32 [==============================] - 1s 34ms/step - loss: 0.4321 - accuracy: 0.8777 - val_loss: 0.4243 - val_accuracy: 0.8813\n",
      "Epoch 36/100\n",
      "32/32 [==============================] - 1s 34ms/step - loss: 0.4481 - accuracy: 0.8767 - val_loss: 0.4471 - val_accuracy: 0.8813\n",
      "Epoch 37/100\n",
      "32/32 [==============================] - 1s 34ms/step - loss: 0.4473 - accuracy: 0.8718 - val_loss: 0.4269 - val_accuracy: 0.8767\n",
      "Epoch 38/100\n",
      "32/32 [==============================] - 1s 34ms/step - loss: 0.4315 - accuracy: 0.8865 - val_loss: 0.4521 - val_accuracy: 0.8676\n",
      "Epoch 39/100\n",
      "32/32 [==============================] - 1s 34ms/step - loss: 0.4304 - accuracy: 0.8816 - val_loss: 0.4527 - val_accuracy: 0.8721\n",
      "Epoch 40/100\n",
      "32/32 [==============================] - 1s 35ms/step - loss: 0.4514 - accuracy: 0.8689 - val_loss: 0.4723 - val_accuracy: 0.8539\n",
      "Epoch 41/100\n",
      "32/32 [==============================] - 1s 34ms/step - loss: 0.4340 - accuracy: 0.8885 - val_loss: 0.4515 - val_accuracy: 0.8676\n",
      "Epoch 42/100\n",
      "32/32 [==============================] - 1s 35ms/step - loss: 0.4499 - accuracy: 0.8748 - val_loss: 0.4705 - val_accuracy: 0.8630\n",
      "Epoch 43/100\n",
      "32/32 [==============================] - 1s 35ms/step - loss: 0.4639 - accuracy: 0.8748 - val_loss: 0.4433 - val_accuracy: 0.8676\n",
      "Epoch 44/100\n",
      "32/32 [==============================] - 1s 34ms/step - loss: 0.4654 - accuracy: 0.8562 - val_loss: 0.4635 - val_accuracy: 0.8676\n",
      "Epoch 45/100\n",
      "32/32 [==============================] - 1s 34ms/step - loss: 0.4400 - accuracy: 0.8885 - val_loss: 0.4277 - val_accuracy: 0.8676\n",
      "Epoch 46/100\n",
      "32/32 [==============================] - 1s 35ms/step - loss: 0.4331 - accuracy: 0.8904 - val_loss: 0.4286 - val_accuracy: 0.8767\n",
      "Epoch 47/100\n",
      "32/32 [==============================] - 1s 34ms/step - loss: 0.4274 - accuracy: 0.8865 - val_loss: 0.4326 - val_accuracy: 0.8676\n",
      "Epoch 48/100\n",
      "32/32 [==============================] - 1s 35ms/step - loss: 0.4416 - accuracy: 0.8728 - val_loss: 0.4287 - val_accuracy: 0.8676\n",
      "Epoch 49/100\n",
      "32/32 [==============================] - 1s 34ms/step - loss: 0.4203 - accuracy: 0.8973 - val_loss: 0.4296 - val_accuracy: 0.8676\n",
      "Epoch 50/100\n",
      "32/32 [==============================] - 1s 34ms/step - loss: 0.4360 - accuracy: 0.8806 - val_loss: 0.4421 - val_accuracy: 0.8767\n",
      "Epoch 51/100\n",
      "32/32 [==============================] - 1s 34ms/step - loss: 0.4759 - accuracy: 0.8562 - val_loss: 0.4653 - val_accuracy: 0.8721\n",
      "Epoch 52/100\n",
      "32/32 [==============================] - 1s 34ms/step - loss: 0.4482 - accuracy: 0.8679 - val_loss: 0.4274 - val_accuracy: 0.8721\n",
      "Epoch 53/100\n",
      "32/32 [==============================] - 1s 34ms/step - loss: 0.4351 - accuracy: 0.8836 - val_loss: 0.4555 - val_accuracy: 0.8676\n",
      "Epoch 54/100\n",
      "32/32 [==============================] - 1s 35ms/step - loss: 0.4515 - accuracy: 0.8748 - val_loss: 0.4319 - val_accuracy: 0.8858\n",
      "Epoch 55/100\n",
      "32/32 [==============================] - 1s 35ms/step - loss: 0.4252 - accuracy: 0.8924 - val_loss: 0.4326 - val_accuracy: 0.8676\n",
      "Epoch 56/100\n",
      "32/32 [==============================] - 1s 34ms/step - loss: 0.4323 - accuracy: 0.8836 - val_loss: 0.4319 - val_accuracy: 0.8767\n",
      "Epoch 57/100\n",
      "32/32 [==============================] - 1s 34ms/step - loss: 0.4541 - accuracy: 0.8679 - val_loss: 0.4400 - val_accuracy: 0.8676\n",
      "Epoch 58/100\n"
     ]
    },
    {
     "name": "stdout",
     "output_type": "stream",
     "text": [
      "32/32 [==============================] - 1s 35ms/step - loss: 0.4469 - accuracy: 0.8865 - val_loss: 0.4284 - val_accuracy: 0.8858\n",
      "Epoch 59/100\n",
      "32/32 [==============================] - 1s 35ms/step - loss: 0.4504 - accuracy: 0.8748 - val_loss: 0.4557 - val_accuracy: 0.8721\n",
      "Epoch 60/100\n",
      "32/32 [==============================] - 1s 35ms/step - loss: 0.4493 - accuracy: 0.8757 - val_loss: 0.4319 - val_accuracy: 0.8676\n",
      "Epoch 61/100\n",
      "32/32 [==============================] - 1s 35ms/step - loss: 0.4487 - accuracy: 0.8738 - val_loss: 0.4560 - val_accuracy: 0.8721\n",
      "Epoch 62/100\n",
      "32/32 [==============================] - 1s 35ms/step - loss: 0.4470 - accuracy: 0.8806 - val_loss: 0.4534 - val_accuracy: 0.8721\n",
      "Epoch 63/100\n",
      "32/32 [==============================] - 1s 34ms/step - loss: 0.4652 - accuracy: 0.8669 - val_loss: 0.5004 - val_accuracy: 0.8447\n",
      "Epoch 64/100\n",
      "32/32 [==============================] - 1s 33ms/step - loss: 0.4602 - accuracy: 0.8640 - val_loss: 0.4363 - val_accuracy: 0.8676\n",
      "Epoch 65/100\n",
      "32/32 [==============================] - 1s 34ms/step - loss: 0.4615 - accuracy: 0.8757 - val_loss: 0.4313 - val_accuracy: 0.8813\n",
      "Epoch 66/100\n",
      "32/32 [==============================] - 1s 34ms/step - loss: 0.4321 - accuracy: 0.8787 - val_loss: 0.4273 - val_accuracy: 0.8721\n",
      "Epoch 67/100\n",
      "32/32 [==============================] - 1s 34ms/step - loss: 0.4379 - accuracy: 0.8806 - val_loss: 0.4410 - val_accuracy: 0.8676\n",
      "Epoch 68/100\n",
      "32/32 [==============================] - 1s 34ms/step - loss: 0.4418 - accuracy: 0.8796 - val_loss: 0.4252 - val_accuracy: 0.8858\n",
      "Epoch 69/100\n",
      "32/32 [==============================] - 1s 34ms/step - loss: 0.4284 - accuracy: 0.8904 - val_loss: 0.4222 - val_accuracy: 0.8767\n",
      "Epoch 70/100\n",
      "32/32 [==============================] - 1s 34ms/step - loss: 0.4324 - accuracy: 0.8777 - val_loss: 0.4250 - val_accuracy: 0.8721\n",
      "Epoch 71/100\n",
      "32/32 [==============================] - 1s 34ms/step - loss: 0.4347 - accuracy: 0.8796 - val_loss: 0.4267 - val_accuracy: 0.8721\n",
      "Epoch 72/100\n",
      "32/32 [==============================] - 1s 34ms/step - loss: 0.4327 - accuracy: 0.8816 - val_loss: 0.4326 - val_accuracy: 0.8630\n",
      "Epoch 73/100\n",
      "32/32 [==============================] - 1s 34ms/step - loss: 0.4207 - accuracy: 0.8796 - val_loss: 0.4266 - val_accuracy: 0.8858\n",
      "Epoch 74/100\n",
      "32/32 [==============================] - 1s 34ms/step - loss: 0.4289 - accuracy: 0.8885 - val_loss: 0.4224 - val_accuracy: 0.8721\n",
      "Epoch 75/100\n",
      "32/32 [==============================] - 1s 34ms/step - loss: 0.4223 - accuracy: 0.8894 - val_loss: 0.4218 - val_accuracy: 0.8721\n",
      "Epoch 76/100\n",
      "32/32 [==============================] - 1s 34ms/step - loss: 0.4436 - accuracy: 0.8767 - val_loss: 0.4640 - val_accuracy: 0.8676\n",
      "Epoch 77/100\n",
      "32/32 [==============================] - 1s 34ms/step - loss: 0.4422 - accuracy: 0.8787 - val_loss: 0.4270 - val_accuracy: 0.8630\n",
      "Epoch 78/100\n",
      "32/32 [==============================] - 1s 34ms/step - loss: 0.4296 - accuracy: 0.8904 - val_loss: 0.4257 - val_accuracy: 0.8767\n",
      "Epoch 79/100\n",
      "32/32 [==============================] - 1s 34ms/step - loss: 0.4497 - accuracy: 0.8767 - val_loss: 0.4741 - val_accuracy: 0.8630\n",
      "Epoch 80/100\n",
      "32/32 [==============================] - 1s 34ms/step - loss: 0.4384 - accuracy: 0.8924 - val_loss: 0.4266 - val_accuracy: 0.8813\n",
      "Epoch 81/100\n",
      "32/32 [==============================] - 1s 34ms/step - loss: 0.4223 - accuracy: 0.8953 - val_loss: 0.4733 - val_accuracy: 0.8630\n",
      "Epoch 82/100\n",
      "32/32 [==============================] - 1s 34ms/step - loss: 0.4349 - accuracy: 0.8826 - val_loss: 0.4246 - val_accuracy: 0.8721\n",
      "Epoch 83/100\n",
      "32/32 [==============================] - 1s 35ms/step - loss: 0.4405 - accuracy: 0.8836 - val_loss: 0.4565 - val_accuracy: 0.8721\n",
      "Epoch 84/100\n",
      "32/32 [==============================] - 1s 34ms/step - loss: 0.4347 - accuracy: 0.8885 - val_loss: 0.4349 - val_accuracy: 0.8721\n",
      "Epoch 85/100\n",
      "32/32 [==============================] - 1s 34ms/step - loss: 0.4406 - accuracy: 0.8757 - val_loss: 0.5092 - val_accuracy: 0.8493\n",
      "Epoch 86/100\n",
      "32/32 [==============================] - 1s 34ms/step - loss: 0.4480 - accuracy: 0.8767 - val_loss: 0.4488 - val_accuracy: 0.8767\n",
      "Epoch 87/100\n",
      "32/32 [==============================] - 1s 34ms/step - loss: 0.4364 - accuracy: 0.8757 - val_loss: 0.4305 - val_accuracy: 0.8721\n",
      "Epoch 88/100\n",
      "32/32 [==============================] - 1s 34ms/step - loss: 0.4341 - accuracy: 0.8885 - val_loss: 0.4220 - val_accuracy: 0.8676\n",
      "Epoch 89/100\n",
      "32/32 [==============================] - 1s 34ms/step - loss: 0.4404 - accuracy: 0.8816 - val_loss: 0.4410 - val_accuracy: 0.8630\n",
      "Epoch 90/100\n",
      "32/32 [==============================] - 1s 34ms/step - loss: 0.4315 - accuracy: 0.8894 - val_loss: 0.4216 - val_accuracy: 0.8858\n",
      "Epoch 91/100\n",
      "32/32 [==============================] - 1s 34ms/step - loss: 0.4380 - accuracy: 0.8904 - val_loss: 0.4288 - val_accuracy: 0.8767\n",
      "Epoch 92/100\n",
      "32/32 [==============================] - 1s 34ms/step - loss: 0.4359 - accuracy: 0.8816 - val_loss: 0.4824 - val_accuracy: 0.8539\n",
      "Epoch 93/100\n",
      "32/32 [==============================] - 1s 34ms/step - loss: 0.4336 - accuracy: 0.8836 - val_loss: 0.4264 - val_accuracy: 0.8721\n",
      "Epoch 94/100\n",
      "32/32 [==============================] - 1s 34ms/step - loss: 0.4358 - accuracy: 0.8845 - val_loss: 0.4266 - val_accuracy: 0.8721\n",
      "Epoch 95/100\n",
      "32/32 [==============================] - 1s 34ms/step - loss: 0.4305 - accuracy: 0.8845 - val_loss: 0.4280 - val_accuracy: 0.8676\n",
      "Epoch 96/100\n",
      "32/32 [==============================] - 1s 34ms/step - loss: 0.4356 - accuracy: 0.8796 - val_loss: 0.4323 - val_accuracy: 0.8676\n",
      "Epoch 97/100\n",
      "32/32 [==============================] - 1s 34ms/step - loss: 0.4303 - accuracy: 0.8894 - val_loss: 0.4266 - val_accuracy: 0.8767\n",
      "Epoch 98/100\n",
      "32/32 [==============================] - 1s 34ms/step - loss: 0.4644 - accuracy: 0.8581 - val_loss: 0.4374 - val_accuracy: 0.8630\n",
      "Epoch 99/100\n",
      "32/32 [==============================] - 1s 34ms/step - loss: 0.4643 - accuracy: 0.8708 - val_loss: 0.4306 - val_accuracy: 0.8858\n",
      "Epoch 100/100\n",
      "32/32 [==============================] - 1s 34ms/step - loss: 0.4404 - accuracy: 0.8865 - val_loss: 0.4526 - val_accuracy: 0.8813\n"
     ]
    }
   ],
   "source": [
    "model_3.compile(optimizer='adam',\n",
    "              loss='binary_crossentropy',\n",
    "              metrics=['accuracy'])\n",
    "hist_3 = model_3.fit(X_train, Y_train,\n",
    "          batch_size=32, epochs=100,\n",
    "          validation_data=(X_val, Y_val))"
   ]
  },
  {
   "cell_type": "markdown",
   "metadata": {},
   "source": [
    "We'll now plot the loss and accuracy graphs for Model 3. You'll notice that the loss is a lot higher at the start, and that's because we've changed our loss function. To plot such that the window is zoomed in between 0 and 1.2 for the loss, we add an additional line of code (plt.ylim) when plotting"
   ]
  },
  {
   "cell_type": "code",
   "execution_count": 28,
   "metadata": {},
   "outputs": [
    {
     "data": {
      "image/png": "[encoded data removed]",
      "text/plain": [
       "<Figure size 432x288 with 1 Axes>"
      ]
     },
     "metadata": {
      "needs_background": "light"
     },
     "output_type": "display_data"
    }
   ],
   "source": [
    "plt.plot(hist_3.history['loss'])\n",
    "plt.plot(hist_3.history['val_loss'])\n",
    "plt.title('Model loss')\n",
    "plt.ylabel('Loss')\n",
    "plt.xlabel('Epoch')\n",
    "plt.legend(['Train', 'Val'], loc='upper right')\n",
    "plt.ylim(top=1.2, bottom=0)\n",
    "plt.show()"
   ]
  },
  {
   "cell_type": "code",
   "execution_count": 29,
   "metadata": {},
   "outputs": [
    {
     "data": {
      "image/png": "[encoded data removed]",
      "text/plain": [
       "<Figure size 432x288 with 1 Axes>"
      ]
     },
     "metadata": {
      "needs_background": "light"
     },
     "output_type": "display_data"
    }
   ],
   "source": [
    "plt.plot(hist_3.history['accuracy'])\n",
    "plt.plot(hist_3.history['val_accuracy'])\n",
    "plt.title('Model accuracy')\n",
    "plt.ylabel('Accuracy')\n",
    "plt.xlabel('Epoch')\n",
    "plt.legend(['Train', 'Val'], loc='lower right')\n",
    "plt.show()"
   ]
  },
  {
   "cell_type": "markdown",
   "metadata": {},
   "source": [
    "As compared to Model 2, you should see that there's less overfitting!"
   ]
  },
  {
   "cell_type": "markdown",
   "metadata": {},
   "source": [
    "# Exercise 1\n",
    "Try to change the following Hyperparameters: <br>\n",
    "batch_size <br>\n",
    "epochs <br>\n",
    "What is your observation?"
   ]
  },
  {
   "cell_type": "markdown",
   "metadata": {},
   "source": [
    "# Exercise 2\n",
    "Try to change the following parameters: <br>\n",
    "No. of Hideen Layers <br>\n",
    "Neurons in each Hidden Layer <br>\n",
    "What is your observation?"
   ]
  },
  {
   "cell_type": "code",
   "execution_count": null,
   "metadata": {},
   "outputs": [],
   "source": []
  }
 ],
 "metadata": {
  "kernelspec": {
   "display_name": "Python 3 (ipykernel)",
   "language": "python",
   "name": "python3"
  },
  "language_info": {
   "codemirror_mode": {
    "name": "ipython",
    "version": 3
   },
   "file_extension": ".py",
   "mimetype": "text/x-python",
   "name": "python",
   "nbconvert_exporter": "python",
   "pygments_lexer": "ipython3",
   "version": "3.9.7"
  },
  "toc": {
   "base_numbering": 1,
   "nav_menu": {},
   "number_sections": true,
   "sideBar": true,
   "skip_h1_title": false,
   "title_cell": "Table of Contents",
   "title_sidebar": "Contents",
   "toc_cell": false,
   "toc_position": {},
   "toc_section_display": true,
   "toc_window_display": true
  }
 },
 "nbformat": 4,
 "nbformat_minor": 2
}
